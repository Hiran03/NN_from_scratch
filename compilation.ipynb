{
 "cells": [
  {
   "cell_type": "code",
   "execution_count": 1,
   "metadata": {},
   "outputs": [
    {
     "name": "stdout",
     "output_type": "stream",
     "text": [
      "Hello world\n"
     ]
    }
   ],
   "source": [
    "print(\"Hello world\")"
   ]
  },
  {
   "cell_type": "code",
   "execution_count": 23,
   "metadata": {},
   "outputs": [],
   "source": [
    "from keras.datasets import fashion_mnist\n",
    "(X_train, y_train), (X_test, y_test) = fashion_mnist.load_data()"
   ]
  },
  {
   "cell_type": "code",
   "execution_count": 17,
   "metadata": {},
   "outputs": [
    {
     "data": {
      "text/plain": [
       "<module 'model' from '/home/hiran/Desktop/DL/model.py'>"
      ]
     },
     "execution_count": 17,
     "metadata": {},
     "output_type": "execute_result"
    }
   ],
   "source": [
    "import importlib\n",
    "import model  # Ensure model.py is imported\n",
    "importlib.reload(model)  # Reload the module\n"
   ]
  },
  {
   "cell_type": "code",
   "execution_count": 1,
   "metadata": {},
   "outputs": [
    {
     "name": "stderr",
     "output_type": "stream",
     "text": [
      "2025-03-15 12:48:52.265351: I tensorflow/core/util/port.cc:153] oneDNN custom operations are on. You may see slightly different numerical results due to floating-point round-off errors from different computation orders. To turn them off, set the environment variable `TF_ENABLE_ONEDNN_OPTS=0`.\n",
      "2025-03-15 12:48:52.270365: I external/local_xla/xla/tsl/cuda/cudart_stub.cc:32] Could not find cuda drivers on your machine, GPU will not be used.\n",
      "2025-03-15 12:48:52.321213: I external/local_xla/xla/tsl/cuda/cudart_stub.cc:32] Could not find cuda drivers on your machine, GPU will not be used.\n",
      "2025-03-15 12:48:52.367729: E external/local_xla/xla/stream_executor/cuda/cuda_fft.cc:477] Unable to register cuFFT factory: Attempting to register factory for plugin cuFFT when one has already been registered\n",
      "WARNING: All log messages before absl::InitializeLog() is called are written to STDERR\n",
      "E0000 00:00:1742023132.423373    3781 cuda_dnn.cc:8310] Unable to register cuDNN factory: Attempting to register factory for plugin cuDNN when one has already been registered\n",
      "E0000 00:00:1742023132.433907    3781 cuda_blas.cc:1418] Unable to register cuBLAS factory: Attempting to register factory for plugin cuBLAS when one has already been registered\n",
      "2025-03-15 12:48:52.542326: I tensorflow/core/platform/cpu_feature_guard.cc:210] This TensorFlow binary is optimized to use available CPU instructions in performance-critical operations.\n",
      "To enable the following instructions: AVX2 AVX_VNNI FMA, in other operations, rebuild TensorFlow with the appropriate compiler flags.\n"
     ]
    },
    {
     "name": "stdout",
     "output_type": "stream",
     "text": [
      "(60000,)\n",
      "(60000, 10, 1)\n",
      "Weights\n",
      "[(784, 64), (64, 64), (64, 64), (64, 10)]\n",
      "dw\n",
      "[(784, 64), (64, 64), (64, 64), (64, 10)]\n",
      "Epoch number: 1\n",
      "\n",
      "Epoch: 1, batch: 0/937 completed....Accuracy: 0.078125\n",
      "Epoch: 1, batch: 100/937 completed....Accuracy: 0.0625\n",
      "Epoch: 1, batch: 200/937 completed....Accuracy: 0.09375\n",
      "Epoch: 1, batch: 300/937 completed....Accuracy: 0.125\n"
     ]
    },
    {
     "name": "stderr",
     "output_type": "stream",
     "text": [
      "/home/hiran/Desktop/DL/model.py:187: RuntimeWarning: overflow encountered in divide\n",
      "  self.v_b[i] = (self.beta2*self.v_b[i] + (1-self.beta2)*db[i]*db[i])/(1 - np.power(self.beta2, self.t) + 1e-8)\n",
      "/home/hiran/Desktop/DL/model.py:186: RuntimeWarning: overflow encountered in divide\n",
      "  self.v_w[i] = (self.beta2*self.v_w[i] + (1-self.beta2)*dw[i]*dw[i])/(1 - np.power(self.beta2, self.t) + 1e-8)\n"
     ]
    },
    {
     "name": "stdout",
     "output_type": "stream",
     "text": [
      "Epoch: 1, batch: 400/937 completed....Accuracy: 0.0625\n",
      "Epoch: 1, batch: 500/937 completed....Accuracy: 0.15625\n",
      "Epoch: 1, batch: 600/937 completed....Accuracy: 0.046875\n",
      "Epoch: 1, batch: 700/937 completed....Accuracy: 0.09375\n",
      "Epoch: 1, batch: 800/937 completed....Accuracy: 0.109375\n",
      "Epoch: 1, batch: 900/937 completed....Accuracy: 0.140625\n",
      "Epoch number: 2\n",
      "\n",
      "Epoch: 2, batch: 0/937 completed....Accuracy: 0.078125\n",
      "Epoch: 2, batch: 100/937 completed....Accuracy: 0.0625\n",
      "Epoch: 2, batch: 200/937 completed....Accuracy: 0.09375\n",
      "Epoch: 2, batch: 300/937 completed....Accuracy: 0.125\n",
      "Epoch: 2, batch: 400/937 completed....Accuracy: 0.0625\n",
      "Epoch: 2, batch: 500/937 completed....Accuracy: 0.15625\n",
      "Epoch: 2, batch: 600/937 completed....Accuracy: 0.046875\n",
      "Epoch: 2, batch: 700/937 completed....Accuracy: 0.09375\n",
      "Epoch: 2, batch: 800/937 completed....Accuracy: 0.109375\n",
      "Epoch: 2, batch: 900/937 completed....Accuracy: 0.140625\n",
      "Epoch number: 3\n",
      "\n",
      "Epoch: 3, batch: 0/937 completed....Accuracy: 0.078125\n",
      "Epoch: 3, batch: 100/937 completed....Accuracy: 0.0625\n",
      "Epoch: 3, batch: 200/937 completed....Accuracy: 0.09375\n",
      "Epoch: 3, batch: 300/937 completed....Accuracy: 0.125\n",
      "Epoch: 3, batch: 400/937 completed....Accuracy: 0.0625\n",
      "Epoch: 3, batch: 500/937 completed....Accuracy: 0.15625\n",
      "Epoch: 3, batch: 600/937 completed....Accuracy: 0.046875\n",
      "Epoch: 3, batch: 700/937 completed....Accuracy: 0.09375\n",
      "Epoch: 3, batch: 800/937 completed....Accuracy: 0.109375\n",
      "Epoch: 3, batch: 900/937 completed....Accuracy: 0.140625\n",
      "Epoch number: 4\n",
      "\n",
      "Epoch: 4, batch: 0/937 completed....Accuracy: 0.078125\n",
      "Epoch: 4, batch: 100/937 completed....Accuracy: 0.0625\n",
      "Epoch: 4, batch: 200/937 completed....Accuracy: 0.09375\n",
      "Epoch: 4, batch: 300/937 completed....Accuracy: 0.125\n",
      "Epoch: 4, batch: 400/937 completed....Accuracy: 0.0625\n",
      "Epoch: 4, batch: 500/937 completed....Accuracy: 0.15625\n",
      "Epoch: 4, batch: 600/937 completed....Accuracy: 0.046875\n",
      "Epoch: 4, batch: 700/937 completed....Accuracy: 0.09375\n",
      "Epoch: 4, batch: 800/937 completed....Accuracy: 0.109375\n",
      "Epoch: 4, batch: 900/937 completed....Accuracy: 0.140625\n",
      "Epoch number: 5\n",
      "\n",
      "Epoch: 5, batch: 0/937 completed....Accuracy: 0.078125\n",
      "Epoch: 5, batch: 100/937 completed....Accuracy: 0.0625\n",
      "Epoch: 5, batch: 200/937 completed....Accuracy: 0.09375\n",
      "Epoch: 5, batch: 300/937 completed....Accuracy: 0.125\n",
      "Epoch: 5, batch: 400/937 completed....Accuracy: 0.0625\n",
      "Epoch: 5, batch: 500/937 completed....Accuracy: 0.15625\n",
      "Epoch: 5, batch: 600/937 completed....Accuracy: 0.046875\n",
      "Epoch: 5, batch: 700/937 completed....Accuracy: 0.09375\n",
      "Epoch: 5, batch: 800/937 completed....Accuracy: 0.109375\n",
      "Epoch: 5, batch: 900/937 completed....Accuracy: 0.140625\n"
     ]
    }
   ],
   "source": [
    "from keras.datasets import fashion_mnist\n",
    "(X_train, y_train), (X_test, y_test) = fashion_mnist.load_data()\n",
    "\n",
    "import importlib\n",
    "import model  # Ensure model.py is imported\n",
    "importlib.reload(model)  # Reload the module\n",
    "\n",
    "X_train = X_train/255.0\n",
    "X_test = X_test/255.0\n",
    "import numpy as np\n",
    "from model import Model  # Import the class\n",
    "\n",
    "# Create an object of the Model class with some example values\n",
    "model = Model(\n",
    "    num_hidden_layers=3,\n",
    "    hidden_layer_size=[64, 64, 64],  # Example list for layer sizes\n",
    "    weight_decay=0.0005,\n",
    "    learning_rate=0.0001,\n",
    "    optimizer=\"Adam\",\n",
    "    activation=\"sigmoid\",\n",
    "    weight_init=\"xavier\",\n",
    "    loss = 'cross-entropy'\n",
    ")\n",
    "\n",
    "\n",
    "num_classes = int(np.max(y_train)) + 1  # Convert to int\n",
    "y_train = np.eye(num_classes)[y_train.astype(int)]  # Ensure indices are integers\n",
    "y_train = np.array([each_y.reshape(-1, 1) for each_y in y_train])\n",
    "\n",
    "#\n",
    "model.train(X_train, y_train, 5, 64)"
   ]
  },
  {
   "cell_type": "code",
   "execution_count": 18,
   "metadata": {},
   "outputs": [
    {
     "name": "stdout",
     "output_type": "stream",
     "text": [
      "0\n"
     ]
    }
   ],
   "source": [
    "X_train.shape\n",
    "print(np.min(X_train))"
   ]
  },
  {
   "cell_type": "code",
   "execution_count": null,
   "metadata": {},
   "outputs": [
    {
     "name": "stderr",
     "output_type": "stream",
     "text": [
      "\u001b[34m\u001b[1mwandb\u001b[0m: Using wandb-core as the SDK backend.  Please refer to https://wandb.me/wandb-core for more information.\n",
      "\u001b[34m\u001b[1mwandb\u001b[0m: Currently logged in as: \u001b[33mmm21b030\u001b[0m (\u001b[33mmm21b030-indian-institute-of-technology-madras\u001b[0m) to \u001b[32mhttps://api.wandb.ai\u001b[0m. Use \u001b[1m`wandb login --relogin`\u001b[0m to force relogin\n"
     ]
    },
    {
     "data": {
      "text/html": [
       "creating run (0.1s)"
      ],
      "text/plain": [
       "<IPython.core.display.HTML object>"
      ]
     },
     "metadata": {},
     "output_type": "display_data"
    },
    {
     "data": {
      "text/html": [
       "Tracking run with wandb version 0.19.8"
      ],
      "text/plain": [
       "<IPython.core.display.HTML object>"
      ]
     },
     "metadata": {},
     "output_type": "display_data"
    },
    {
     "data": {
      "text/html": [
       "Run data is saved locally in <code>/home/hiran/Desktop/DL/wandb/run-20250315_124952-u61nc5v3</code>"
      ],
      "text/plain": [
       "<IPython.core.display.HTML object>"
      ]
     },
     "metadata": {},
     "output_type": "display_data"
    },
    {
     "data": {
      "text/html": [
       "Syncing run <strong><a href='https://wandb.ai/mm21b030-indian-institute-of-technology-madras/DL/runs/u61nc5v3' target=\"_blank\">fearless-oath-3</a></strong> to <a href='https://wandb.ai/mm21b030-indian-institute-of-technology-madras/DL' target=\"_blank\">Weights & Biases</a> (<a href='https://wandb.me/developer-guide' target=\"_blank\">docs</a>)<br>"
      ],
      "text/plain": [
       "<IPython.core.display.HTML object>"
      ]
     },
     "metadata": {},
     "output_type": "display_data"
    },
    {
     "data": {
      "text/html": [
       " View project at <a href='https://wandb.ai/mm21b030-indian-institute-of-technology-madras/DL' target=\"_blank\">https://wandb.ai/mm21b030-indian-institute-of-technology-madras/DL</a>"
      ],
      "text/plain": [
       "<IPython.core.display.HTML object>"
      ]
     },
     "metadata": {},
     "output_type": "display_data"
    },
    {
     "data": {
      "text/html": [
       " View run at <a href='https://wandb.ai/mm21b030-indian-institute-of-technology-madras/DL/runs/u61nc5v3' target=\"_blank\">https://wandb.ai/mm21b030-indian-institute-of-technology-madras/DL/runs/u61nc5v3</a>"
      ],
      "text/plain": [
       "<IPython.core.display.HTML object>"
      ]
     },
     "metadata": {},
     "output_type": "display_data"
    },
    {
     "name": "stdout",
     "output_type": "stream",
     "text": [
      "Weights\n",
      "[(784, 64), (64, 64), (64, 64), (64, 10)]\n",
      "dw\n",
      "[(784, 64), (64, 64), (64, 64), (64, 10)]\n",
      "Epoch number: 1\n",
      "\n",
      "Epoch: 1, batch: 0/937 completed....Accuracy: 0.109375\n"
     ]
    },
    {
     "name": "stderr",
     "output_type": "stream",
     "text": [
      "/home/hiran/Desktop/DL/model.py:69: RuntimeWarning: overflow encountered in exp\n",
      "  return 1 / (1 + np.exp(-x))\n"
     ]
    },
    {
     "name": "stdout",
     "output_type": "stream",
     "text": [
      "Epoch: 1, batch: 100/937 completed....Accuracy: 0.09375\n",
      "Epoch: 1, batch: 200/937 completed....Accuracy: 0.078125\n",
      "Epoch: 1, batch: 300/937 completed....Accuracy: 0.078125\n"
     ]
    },
    {
     "name": "stderr",
     "output_type": "stream",
     "text": [
      "/home/hiran/Desktop/DL/model.py:186: RuntimeWarning: overflow encountered in divide\n",
      "  self.v_w[i] = (self.beta2*self.v_w[i] + (1-self.beta2)*dw[i]*dw[i])/(1 - np.power(self.beta2, self.t) + 1e-8)\n",
      "/home/hiran/Desktop/DL/model.py:187: RuntimeWarning: overflow encountered in divide\n",
      "  self.v_b[i] = (self.beta2*self.v_b[i] + (1-self.beta2)*db[i]*db[i])/(1 - np.power(self.beta2, self.t) + 1e-8)\n"
     ]
    },
    {
     "name": "stdout",
     "output_type": "stream",
     "text": [
      "Epoch: 1, batch: 400/937 completed....Accuracy: 0.046875\n",
      "Epoch: 1, batch: 500/937 completed....Accuracy: 0.140625\n",
      "Epoch: 1, batch: 600/937 completed....Accuracy: 0.109375\n",
      "Epoch: 1, batch: 700/937 completed....Accuracy: 0.15625\n",
      "Epoch: 1, batch: 800/937 completed....Accuracy: 0.09375\n",
      "Epoch: 1, batch: 900/937 completed....Accuracy: 0.09375\n"
     ]
    },
    {
     "data": {
      "text/html": [],
      "text/plain": [
       "<IPython.core.display.HTML object>"
      ]
     },
     "metadata": {},
     "output_type": "display_data"
    },
    {
     "data": {
      "text/html": [
       "<br>    <style><br>        .wandb-row {<br>            display: flex;<br>            flex-direction: row;<br>            flex-wrap: wrap;<br>            justify-content: flex-start;<br>            width: 100%;<br>        }<br>        .wandb-col {<br>            display: flex;<br>            flex-direction: column;<br>            flex-basis: 100%;<br>            flex: 1;<br>            padding: 10px;<br>        }<br>    </style><br><div class=\"wandb-row\"><div class=\"wandb-col\"><h3>Run history:</h3><br/><table class=\"wandb\"><tr><td>accuracy</td><td>▁</td></tr></table><br/></div><div class=\"wandb-col\"><h3>Run summary:</h3><br/><table class=\"wandb\"><tr><td>accuracy</td><td>0</td></tr></table><br/></div></div>"
      ],
      "text/plain": [
       "<IPython.core.display.HTML object>"
      ]
     },
     "metadata": {},
     "output_type": "display_data"
    },
    {
     "data": {
      "text/html": [
       " View run <strong style=\"color:#cdcd00\">fearless-oath-3</strong> at: <a href='https://wandb.ai/mm21b030-indian-institute-of-technology-madras/DL/runs/u61nc5v3' target=\"_blank\">https://wandb.ai/mm21b030-indian-institute-of-technology-madras/DL/runs/u61nc5v3</a><br> View project at: <a href='https://wandb.ai/mm21b030-indian-institute-of-technology-madras/DL' target=\"_blank\">https://wandb.ai/mm21b030-indian-institute-of-technology-madras/DL</a><br>Synced 5 W&B file(s), 0 media file(s), 0 artifact file(s) and 0 other file(s)"
      ],
      "text/plain": [
       "<IPython.core.display.HTML object>"
      ]
     },
     "metadata": {},
     "output_type": "display_data"
    },
    {
     "data": {
      "text/html": [
       "Find logs at: <code>./wandb/run-20250315_124952-u61nc5v3/logs</code>"
      ],
      "text/plain": [
       "<IPython.core.display.HTML object>"
      ]
     },
     "metadata": {},
     "output_type": "display_data"
    }
   ],
   "source": [
    "import wandb\n",
    "import json\n",
    "import itertools\n",
    "import numpy as np\n",
    "from keras.datasets import fashion_mnist\n",
    "from model import Model\n",
    "\n",
    "# Load configuration from config.json\n",
    "CONFIG_FILE = \"config.json\"\n",
    "with open(CONFIG_FILE, \"r\") as f:\n",
    "    config = json.load(f)\n",
    "\n",
    "# Load dataset\n",
    "(X_train, y_train), (X_test, y_test) = fashion_mnist.load_data()\n",
    "\n",
    "# One-hot encode labels\n",
    "num_classes = int(np.max(y_train)) + 1  \n",
    "y_train = np.eye(num_classes)[y_train.astype(int)]\n",
    "y_train = np.array([each_y.reshape(-1, 1) for each_y in y_train])\n",
    "\n",
    "y_test = np.eye(num_classes)[y_test.astype(int)]\n",
    "y_test = np.array([each_y.reshape(-1, 1) for each_y in y_test])\n",
    "\n",
    "# Generate all possible combinations of hyperparameters\n",
    "param_grid = list(itertools.product(\n",
    "    config[\"epochs\"],\n",
    "    config[\"num_hidden_layers\"],\n",
    "    config[\"hidden_layer_size\"],\n",
    "    config[\"weight_decay\"],\n",
    "    config[\"learning_rate\"],\n",
    "    config[\"optimizer\"],\n",
    "    config[\"batch_size\"],\n",
    "    config[\"weight_initialization\"],\n",
    "    config[\"activation_functions\"]\n",
    "))\n",
    "\n",
    "# Iterate over all hyperparameter combinations\n",
    "for params in param_grid:\n",
    "    epochs, num_hidden_layers, hidden_layer_size, weight_decay, learning_rate, optimizer, batch_size, weight_init, activation = params\n",
    "\n",
    "    # Initialize Weights & Biases for each experiment run\n",
    "    run = wandb.init(\n",
    "        entity=\"mm21b030-indian-institute-of-technology-madras\",\n",
    "        project=\"DL\",\n",
    "        name=f\"HL{num_hidden_layers}_HS{hidden_layer_size}_WD{weight_decay}_LR{learning_rate}_OPT{optimizer}_BS{batch_size}_WI{weight_init}_ACT{activation}\",\n",
    "        config={\n",
    "            \"epochs\": epochs,\n",
    "            \"num_hidden_layers\": num_hidden_layers,\n",
    "            \"hidden_layer_size\": hidden_layer_size,\n",
    "            \"weight_decay\": weight_decay,\n",
    "            \"learning_rate\": learning_rate,\n",
    "            \"optimizer\": optimizer,\n",
    "            \"batch_size\": batch_size,\n",
    "            \"weight_initialization\": weight_init,\n",
    "            \"activation\": activation\n",
    "        }\n",
    "    )\n",
    "\n",
    "    # Initialize and train the model\n",
    "    model = Model(\n",
    "        num_hidden_layers=num_hidden_layers,\n",
    "        hidden_layer_size=[hidden_layer_size] * num_hidden_layers,\n",
    "        weight_decay=weight_decay,\n",
    "        learning_rate=learning_rate,\n",
    "        optimizer=optimizer,\n",
    "        activation=activation,\n",
    "        weight_init=weight_init,\n",
    "        loss='cross-entropy'\n",
    "    )\n",
    "    \n",
    "    model.train(X_train, y_train, epochs, batch_size)\n",
    "\n",
    "    # Evaluate the model\n",
    "    predictions = model.predict(X_test)\n",
    "    predicted_classes = np.argmax(predictions, axis=1)  # Ensure correct axis for multi-class classification\n",
    "    true_classes = np.argmax(y_test, axis=1)  \n",
    "\n",
    "    accuracy = np.mean(predicted_classes == true_classes)\n",
    "\n",
    "    # Log accuracy to wandb\n",
    "    wandb.log({\"accuracy\": accuracy})\n",
    "\n",
    "    # Finish the run\n",
    "    run.finish()\n"
   ]
  },
  {
   "cell_type": "code",
   "execution_count": 1,
   "metadata": {},
   "outputs": [
    {
     "name": "stderr",
     "output_type": "stream",
     "text": [
      "\u001b[34m\u001b[1mwandb\u001b[0m: Using wandb-core as the SDK backend.  Please refer to https://wandb.me/wandb-core for more information.\n",
      "\u001b[34m\u001b[1mwandb\u001b[0m: Currently logged in as: \u001b[33mmm21b030\u001b[0m (\u001b[33mmm21b030-indian-institute-of-technology-madras\u001b[0m) to \u001b[32mhttps://api.wandb.ai\u001b[0m. Use \u001b[1m`wandb login --relogin`\u001b[0m to force relogin\n"
     ]
    },
    {
     "data": {
      "text/html": [
       "creating run (0.1s)"
      ],
      "text/plain": [
       "<IPython.core.display.HTML object>"
      ]
     },
     "metadata": {},
     "output_type": "display_data"
    },
    {
     "data": {
      "text/html": [
       "Tracking run with wandb version 0.19.8"
      ],
      "text/plain": [
       "<IPython.core.display.HTML object>"
      ]
     },
     "metadata": {},
     "output_type": "display_data"
    },
    {
     "data": {
      "text/html": [
       "Run data is saved locally in <code>/home/hiran/Desktop/DL/wandb/run-20250314_193421-6tgfbep8</code>"
      ],
      "text/plain": [
       "<IPython.core.display.HTML object>"
      ]
     },
     "metadata": {},
     "output_type": "display_data"
    },
    {
     "data": {
      "text/html": [
       "Syncing run <strong><a href='https://wandb.ai/mm21b030-indian-institute-of-technology-madras/DL/runs/6tgfbep8' target=\"_blank\">butterscotch-cake-1</a></strong> to <a href='https://wandb.ai/mm21b030-indian-institute-of-technology-madras/DL' target=\"_blank\">Weights & Biases</a> (<a href='https://wandb.me/developer-guide' target=\"_blank\">docs</a>)<br>"
      ],
      "text/plain": [
       "<IPython.core.display.HTML object>"
      ]
     },
     "metadata": {},
     "output_type": "display_data"
    },
    {
     "data": {
      "text/html": [
       " View project at <a href='https://wandb.ai/mm21b030-indian-institute-of-technology-madras/DL' target=\"_blank\">https://wandb.ai/mm21b030-indian-institute-of-technology-madras/DL</a>"
      ],
      "text/plain": [
       "<IPython.core.display.HTML object>"
      ]
     },
     "metadata": {},
     "output_type": "display_data"
    },
    {
     "data": {
      "text/html": [
       " View run at <a href='https://wandb.ai/mm21b030-indian-institute-of-technology-madras/DL/runs/6tgfbep8' target=\"_blank\">https://wandb.ai/mm21b030-indian-institute-of-technology-madras/DL/runs/6tgfbep8</a>"
      ],
      "text/plain": [
       "<IPython.core.display.HTML object>"
      ]
     },
     "metadata": {},
     "output_type": "display_data"
    },
    {
     "name": "stdout",
     "output_type": "stream",
     "text": [
      "{'epochs': [5, 10], 'num_hidden_layers': [3, 4, 5], 'hidden_layer_size': [32, 64, 128], 'weight_decay': [0, 0.0005, 0.5], 'learning_rate': [0.001, 0.0001], 'optimizer': ['sgd', 'momentum', 'nesterov', 'rmsprop', 'adam', 'nadam'], 'batch_size': [16, 32, 64], 'weight_initialization': ['random', 'Xavier'], 'activation_functions': ['sigmoid', 'tanh', 'relu']}\n"
     ]
    },
    {
     "data": {
      "text/html": [],
      "text/plain": [
       "<IPython.core.display.HTML object>"
      ]
     },
     "metadata": {},
     "output_type": "display_data"
    },
    {
     "data": {
      "text/html": [
       " View run <strong style=\"color:#cdcd00\">butterscotch-cake-1</strong> at: <a href='https://wandb.ai/mm21b030-indian-institute-of-technology-madras/DL/runs/6tgfbep8' target=\"_blank\">https://wandb.ai/mm21b030-indian-institute-of-technology-madras/DL/runs/6tgfbep8</a><br> View project at: <a href='https://wandb.ai/mm21b030-indian-institute-of-technology-madras/DL' target=\"_blank\">https://wandb.ai/mm21b030-indian-institute-of-technology-madras/DL</a><br>Synced 5 W&B file(s), 0 media file(s), 0 artifact file(s) and 0 other file(s)"
      ],
      "text/plain": [
       "<IPython.core.display.HTML object>"
      ]
     },
     "metadata": {},
     "output_type": "display_data"
    },
    {
     "data": {
      "text/html": [
       "Find logs at: <code>./wandb/run-20250314_193421-6tgfbep8/logs</code>"
      ],
      "text/plain": [
       "<IPython.core.display.HTML object>"
      ]
     },
     "metadata": {},
     "output_type": "display_data"
    }
   ],
   "source": [
    "import json\n",
    "import wandb\n",
    "# Load hyperparameters from config.json\n",
    "CONFIG_FILE = \"sweep_config.json\"\n",
    "\n",
    "with open(CONFIG_FILE, \"r\") as f:\n",
    "    config = json.load(f)\n",
    "\n",
    "# Define the hyperparameter sweep configuration\n",
    "sweep_config = {\n",
    "    \"method\": \"bayes\",  # Bayesian optimization for efficient search\n",
    "    \"metric\": {\"name\": \"val_accuracy\", \"goal\": \"maximize\"},\n",
    "    \"parameters\": {\n",
    "        \"epochs\": {\"values\": config[\"epochs\"]},\n",
    "        \"num_hidden_layers\": {\"values\": config[\"num_hidden_layers\"]},\n",
    "        \"hidden_layer_size\": {\"values\": config[\"hidden_layer_size\"]},\n",
    "        \"weight_decay\": {\"values\": config[\"weight_decay\"]},\n",
    "        \"learning_rate\": {\"values\": config[\"learning_rate\"]},\n",
    "        \"optimizer\": {\"values\": config[\"optimizer\"]},\n",
    "        \"batch_size\": {\"values\": config[\"batch_size\"]},\n",
    "        \"weight_init\": {\"values\": config[\"weight_initialization\"]},\n",
    "        \"activation\": {\"values\": config[\"activation_functions\"]},\n",
    "    },\n",
    "}\n",
    "with wandb.init(config=config):\n",
    "        config = wandb.config\n",
    "        print(config)"
   ]
  }
 ],
 "metadata": {
  "kernelspec": {
   "display_name": ".venv",
   "language": "python",
   "name": "python3"
  },
  "language_info": {
   "codemirror_mode": {
    "name": "ipython",
    "version": 3
   },
   "file_extension": ".py",
   "mimetype": "text/x-python",
   "name": "python",
   "nbconvert_exporter": "python",
   "pygments_lexer": "ipython3",
   "version": "3.10.12"
  }
 },
 "nbformat": 4,
 "nbformat_minor": 2
}
