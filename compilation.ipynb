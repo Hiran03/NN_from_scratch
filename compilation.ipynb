{
 "cells": [
  {
   "cell_type": "code",
   "execution_count": 1,
   "metadata": {},
   "outputs": [
    {
     "name": "stdout",
     "output_type": "stream",
     "text": [
      "Hello world\n"
     ]
    }
   ],
   "source": [
    "print(\"Hello world\")"
   ]
  },
  {
   "cell_type": "code",
   "execution_count": 23,
   "metadata": {},
   "outputs": [],
   "source": [
    "from keras.datasets import fashion_mnist\n",
    "(X_train, y_train), (X_test, y_test) = fashion_mnist.load_data()"
   ]
  },
  {
   "cell_type": "code",
   "execution_count": 17,
   "metadata": {},
   "outputs": [
    {
     "data": {
      "text/plain": [
       "<module 'model' from '/home/hiran/Desktop/DL/model.py'>"
      ]
     },
     "execution_count": 17,
     "metadata": {},
     "output_type": "execute_result"
    }
   ],
   "source": [
    "import importlib\n",
    "import model  # Ensure model.py is imported\n",
    "importlib.reload(model)  # Reload the module\n"
   ]
  },
  {
   "cell_type": "code",
   "execution_count": 29,
   "metadata": {},
   "outputs": [
    {
     "name": "stdout",
     "output_type": "stream",
     "text": [
      "(60000,)\n",
      "(60000, 10, 1)\n",
      "Epoch number: 1\n",
      "\n",
      "Epoch: 1, batch: 0/937 completed....Accuracy: 0.078125\n",
      "Epoch: 1, batch: 100/937 completed....Accuracy: 0.0625\n",
      "Epoch: 1, batch: 200/937 completed....Accuracy: 0.09375\n",
      "Epoch: 1, batch: 300/937 completed....Accuracy: 0.125\n",
      "Epoch: 1, batch: 400/937 completed....Accuracy: 0.0625\n",
      "Epoch: 1, batch: 500/937 completed....Accuracy: 0.15625\n",
      "Epoch: 1, batch: 600/937 completed....Accuracy: 0.046875\n",
      "Epoch: 1, batch: 700/937 completed....Accuracy: 0.09375\n",
      "Epoch: 1, batch: 800/937 completed....Accuracy: 0.109375\n",
      "Epoch: 1, batch: 900/937 completed....Accuracy: 0.140625\n"
     ]
    }
   ],
   "source": [
    "from keras.datasets import fashion_mnist\n",
    "(X_train, y_train), (X_test, y_test) = fashion_mnist.load_data()\n",
    "\n",
    "import importlib\n",
    "import model  # Ensure model.py is imported\n",
    "importlib.reload(model)  # Reload the module\n",
    "\n",
    "\n",
    "import numpy as np\n",
    "from model import Model  # Import the class\n",
    "\n",
    "# Create an object of the Model class with some example values\n",
    "model = Model(\n",
    "    num_hidden_layers=3,\n",
    "    hidden_layer_size=[64, 64, 64],  # Example list for layer sizes\n",
    "    weight_decay=0.0005,\n",
    "    learning_rate=0.0001,\n",
    "    optimizer=\"Adam\",\n",
    "    activation=\"sigmoid\",\n",
    "    weight_init=\"xavier\",\n",
    "    loss = 'cross-entropy'\n",
    ")\n",
    "\n",
    "print(y_train.shape)\n",
    "num_classes = int(np.max(y_train)) + 1  # Convert to int\n",
    "y_train = np.eye(num_classes)[y_train.astype(int)]  # Ensure indices are integers\n",
    "y_train = np.array([each_y.reshape(-1, 1) for each_y in y_train])\n",
    "print(y_train.shape)\n",
    "model.train(X_train, y_train, 1, 64)"
   ]
  }
 ],
 "metadata": {
  "kernelspec": {
   "display_name": ".venv",
   "language": "python",
   "name": "python3"
  },
  "language_info": {
   "codemirror_mode": {
    "name": "ipython",
    "version": 3
   },
   "file_extension": ".py",
   "mimetype": "text/x-python",
   "name": "python",
   "nbconvert_exporter": "python",
   "pygments_lexer": "ipython3",
   "version": "3.10.12"
  }
 },
 "nbformat": 4,
 "nbformat_minor": 2
}
